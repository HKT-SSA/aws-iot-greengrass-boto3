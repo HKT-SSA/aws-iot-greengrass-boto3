{
 "cells": [
  {
   "cell_type": "code",
   "execution_count": null,
   "metadata": {},
   "outputs": [],
   "source": [
    "# Copyright Amazon.com, Inc. or its affiliates. All Rights Reserved.\n",
    "# SPDX-License-Identifier: MIT-0\n",
    "#\n",
    "# Permission is hereby granted, free of charge, to any person obtaining a copy of this\n",
    "# software and associated documentation files (the \"Software\"), to deal in the Software\n",
    "# without restriction, including without limitation the rights to use, copy, modify,\n",
    "# merge, publish, distribute, sublicense, and/or sell copies of the Software, and to\n",
    "# permit persons to whom the Software is furnished to do so.\n",
    "#\n",
    "# THE SOFTWARE IS PROVIDED \"AS IS\", WITHOUT WARRANTY OF ANY KIND, EXPRESS OR IMPLIED,\n",
    "# INCLUDING BUT NOT LIMITED TO THE WARRANTIES OF MERCHANTABILITY, FITNESS FOR A\n",
    "# PARTICULAR PURPOSE AND NONINFRINGEMENT. IN NO EVENT SHALL THE AUTHORS OR COPYRIGHT\n",
    "# HOLDERS BE LIABLE FOR ANY CLAIM, DAMAGES OR OTHER LIABILITY, WHETHER IN AN ACTION\n",
    "# OF CONTRACT, TORT OR OTHERWISE, ARISING FROM, OUT OF OR IN CONNECTION WITH THE\n",
    "# SOFTWARE OR THE USE OR OTHER DEALINGS IN THE SOFTWARE.\n",
    "# Copyright Amazon.com, Inc. or its affiliates. All Rights Reserved.\n",
    "# SPDX-License-Identifier: MIT-0\n",
    "#\n",
    "# Permission is hereby granted, free of charge, to any person obtaining a copy of this\n",
    "# software and associated documentation files (the \"Software\"), to deal in the Software\n",
    "# without restriction, including without limitation the rights to use, copy, modify,\n",
    "# merge, publish, distribute, sublicense, and/or sell copies of the Software, and to\n",
    "# permit persons to whom the Software is furnished to do so.\n",
    "#\n",
    "# THE SOFTWARE IS PROVIDED \"AS IS\", WITHOUT WARRANTY OF ANY KIND, EXPRESS OR IMPLIED,\n",
    "# INCLUDING BUT NOT LIMITED TO THE WARRANTIES OF MERCHANTABILITY, FITNESS FOR A\n",
    "# PARTICULAR PURPOSE AND NONINFRINGEMENT. IN NO EVENT SHALL THE AUTHORS OR COPYRIGHT\n",
    "# HOLDERS BE LIABLE FOR ANY CLAIM, DAMAGES OR OTHER LIABILITY, WHETHER IN AN ACTION\n",
    "# OF CONTRACT, TORT OR OTHERWISE, ARISING FROM, OUT OF OR IN CONNECTION WITH THE\n",
    "# SOFTWARE OR THE USE OR OTHER DEALINGS IN THE SOFTWARE."
   ]
  },
  {
   "cell_type": "markdown",
   "metadata": {},
   "source": [
    "# Code samples for a webinar 'Managing AWS IoT Greengrass with AWS SDK for Python'\n",
    "## Table of contents\n",
    "Part 1: Preparations  \n",
    "Part 2: Create a Greengrass Group (create_group)   \n",
    "Part 3: Greengrass Core  \n",
    "    - Create a Thing in AWS IoT registry and store certificate / private key   \n",
    "    - Create an IoT Policy and attach it to the newly created certificate   \n",
    "    - Create a CoreDefinitionVersion and CoreDefinition   \n",
    "Part 4: Devices   \n",
    "    - Create 2 Things in AWS IoT registry and store certificate / private key   \n",
    "    - For each Thing, create an IoT Policy and attach it to the newly created certificate   \n",
    "    - Create DeviceDefinitionVersion and DeviceDefinition   \n",
    "Part 5:  Lambda function   \n",
    "    - Create a new AWS Lambda function   \n",
    "    - Create FunctionDefinition and FunctionDefinitionVersion   \n",
    "Part 6: Subscriptions   \n",
    "    - Create SubscriptionDefinitionVersion and SubscriptionDefinition   \n",
    "Part 7: Create a GroupVersion   \n",
    "Part 8: Create a Greengrass configuration file config.json   \n",
    "Part 9: Prepare configuration files   \n",
    "    - Greengrass Core certificates and Greengrass configuration   \n",
    "    - Devices certificates   \n",
    "Part 10: Deploy a Greengrass Group   \n",
    "Part 11: Simulate ingestion from Greengrass aware devices   "
   ]
  },
  {
   "cell_type": "markdown",
   "metadata": {},
   "source": [
    "# Part 1: Preparations"
   ]
  },
  {
   "cell_type": "markdown",
   "metadata": {},
   "source": [
    "#### Install the neccessary libraries"
   ]
  },
  {
   "cell_type": "code",
   "execution_count": null,
   "metadata": {
    "tags": []
   },
   "outputs": [],
   "source": [
    "!pip install boto3  PyYAML"
   ]
  },
  {
   "cell_type": "markdown",
   "metadata": {},
   "source": [
    "### Set configuration parameters"
   ]
  },
  {
   "cell_type": "code",
   "execution_count": null,
   "metadata": {
    "tags": []
   },
   "outputs": [],
   "source": [
    "# The Greengrass Groups created by the cod below will have that prefix in a group name\n",
    "GROUP_PREFIX = \"WebinarGGSDK\"\n",
    "# Names of directories to use when creating a Greengrass IoT Core configuration file\n",
    "DIRECTORY_CERT = \"certs\"\n",
    "DIRECTORY_JSONCONFIG = \"config\"\n",
    "DIRECTORY_STATE = \"./state\"\n",
    "# Path to template file for config.json\n",
    "# See details in https://docs.aws.amazon.com/greengrass/latest/developerguide/gg-core.html\n",
    "FILE_GGCONFIGTEMPLATE = \"./configtemplate/config.json.template\"\n",
    "# Path to Amazon root CA, see https://docs.aws.amazon.com/iot/latest/developerguide/server-authentication.html for details\n",
    "ROOTCAPEM = \"root.ca.pem\"\n",
    "!WORKSHOP_ROOT=$(pwd)\n",
    "\n",
    "# Create a function delivering unique id which will be added to the name of various artifacts created by the code in this notebook. Random number generation is used to be able to  restart most commands in this notebook without running into errors because of duplicate identifiers.\n",
    "from datetime import datetime\n",
    "import random\n",
    "UNIQUE_ID = datetime.today().strftime(\"%Y%m%d%H%M%S\") + \"_\"\n",
    "def uniqueid():\n",
    "    return UNIQUE_ID + str(random.randint(1, 10 ^ 5))\n",
    "\n",
    "\n",
    "# Setup logging\n",
    "import logging, sys\n",
    "\n",
    "logging.basicConfig(\n",
    "    stream=sys.stdout,\n",
    "    level=logging.INFO,\n",
    "    format=\"%(asctime)s %(levelname)-8s %(message)s\",\n",
    "    datefmt=\"%Y-%m-%d %H:%M:%S\",\n",
    ")\n",
    "log = logging.getLogger(__name__)\n",
    "\n",
    "\n",
    "# Set region and account id which will later be used for the creation of permissions based\n",
    "# on \"grant least priviledge\" guideline.\n",
    "import boto3\n",
    "current_region = boto3.session.Session().region_name\n",
    "current_account_id = boto3.client(\"sts\").get_caller_identity().get(\"Account\")\n",
    "\n",
    "log.info(\"Region={}, Account={}\".format(current_region, current_account_id))"
   ]
  },
  {
   "cell_type": "markdown",
   "metadata": {},
   "source": [
    "### Configuration directory#\n",
    "The following commands will create a new directory for storing the certificates, keys and configuration files"
   ]
  },
  {
   "cell_type": "code",
   "execution_count": null,
   "metadata": {
    "tags": []
   },
   "outputs": [],
   "source": [
    "config_directory = \"config-\" + uniqueid()\n",
    "\n",
    "from build_and_deploy_coffee_monitoring_utilities import mkdir\n",
    "\n",
    "mkdir(config_directory)\n",
    "\n",
    "ggcore_config_directory_root = config_directory + \"/greengrass_core\"\n",
    "# Create directory to store certificate, private and public keys for Core Thing\n",
    "ggcore_config_directory_cert = ggcore_config_directory_root + \"/\" + DIRECTORY_CERT\n",
    "mkdir(ggcore_config_directory_root)\n",
    "mkdir(ggcore_config_directory_cert)\n",
    "# Create directory pointing to Greengrass Core configuration\n",
    "ggcore_config_directory_jsonconfig = (\n",
    "    ggcore_config_directory_root + \"/\" + DIRECTORY_JSONCONFIG\n",
    ")\n",
    "mkdir(ggcore_config_directory_jsonconfig)\n",
    "\n",
    "\n",
    "ggad_config_directory_root = config_directory + \"/devices\"\n",
    "\n",
    "# Create directory to store certificate, private and public keys for Core Thing\n",
    "# Please note: storing private keys on a local file system is generally insecure and is done in \n",
    "# this code sample only for demonstrational purposes assuming prototypic usage. It should be only used in \n",
    "# prototyping environments after detailed risk analysis and never used in production environments.\n",
    "ggad_config_directory_cert = ggad_config_directory_root + \"/\" + DIRECTORY_CERT\n",
    "mkdir(ggad_config_directory_root)\n",
    "mkdir(ggad_config_directory_cert)\n",
    "\n",
    "log.info(\"Directories created: {}, {}\".format(ggcore_config_directory_cert,ggcore_config_directory_jsonconfig))"
   ]
  },
  {
   "cell_type": "markdown",
   "metadata": {},
   "source": [
    "### Import libraries"
   ]
  },
  {
   "cell_type": "code",
   "execution_count": null,
   "metadata": {},
   "outputs": [],
   "source": [
    "import json\n",
    "import yaml\n",
    "import time\n",
    "import os\n",
    "import uuid\n",
    "import boto3\n",
    "import random\n",
    "from build_and_deploy_coffee_monitoring_utilities import *"
   ]
  },
  {
   "cell_type": "markdown",
   "metadata": {},
   "source": [
    "### Create AWS for Python (Boto3) SDK clients for AWS IoT Greengrass, AWS IoT Core and Amazon IAM"
   ]
  },
  {
   "cell_type": "code",
   "execution_count": null,
   "metadata": {},
   "outputs": [],
   "source": [
    "# https://boto3.amazonaws.com/v1/documentation/api/latest/reference/services/greengrass.html\n",
    "gg_client = boto3.client(\"greengrass\")\n",
    "# https://boto3.amazonaws.com/v1/documentation/api/latest/reference/services/iot.html\n",
    "iot_client = boto3.client(\"iot\")\n",
    "# https://boto3.amazonaws.com/v1/documentation/api/latest/reference/services/iam.html\n",
    "iam_client = boto3.client(\"iam\")\n",
    "# https://boto3.amazonaws.com/v1/documentation/api/latest/reference/services/lambda.html\n",
    "lambda_client = boto3.client(\"lambda\")"
   ]
  },
  {
   "cell_type": "markdown",
   "metadata": {},
   "source": [
    "# Part 2: Create Group entity and assign a Group role\n",
    "\n"
   ]
  },
  {
   "cell_type": "markdown",
   "metadata": {},
   "source": [
    "### Create Group entity"
   ]
  },
  {
   "cell_type": "code",
   "execution_count": null,
   "metadata": {},
   "outputs": [],
   "source": [
    "# Define a name for a Greengrass Group\n",
    "GROUP_NAME = uniqueid() + \"_\" + GROUP_PREFIX\n",
    "\n",
    "# After executing the \"create_group\" call a Greengrass Group will be visible in an AWS Management Console\n",
    "group = gg_client.create_group(Name=GROUP_NAME)\n",
    "group_id = group[\"Id\"]\n",
    "\n",
    "# Print result of API call\n",
    "group.pop(\"ResponseMetadata\") and group"
   ]
  },
  {
   "cell_type": "markdown",
   "metadata": {},
   "source": [
    "### Set a Group Role for the Greengrass Group\n",
    "A Group Role role contains the permissions that AWS IoT Greengrass features (e.g. logging, AWS Lambda functions) use to access AWS cloud services. "
   ]
  },
  {
   "cell_type": "code",
   "execution_count": 1,
   "metadata": {},
   "outputs": [
    {
     "output_type": "error",
     "ename": "NameError",
     "evalue": "name 'current_region' is not defined",
     "traceback": [
      "\u001b[0;31m---------------------------------------------------------------------------\u001b[0m",
      "\u001b[0;31mNameError\u001b[0m                                 Traceback (most recent call last)",
      "\u001b[0;32m<ipython-input-1-e066139aac46>\u001b[0m in \u001b[0;36m<module>\u001b[0;34m\u001b[0m\n\u001b[1;32m      7\u001b[0m             \u001b[0;34m\"Action\"\u001b[0m\u001b[0;34m:\u001b[0m \u001b[0;34m\"iot:Publish\"\u001b[0m\u001b[0;34m,\u001b[0m\u001b[0;34m\u001b[0m\u001b[0;34m\u001b[0m\u001b[0m\n\u001b[1;32m      8\u001b[0m             \"Resource\": \"arn:aws:iot:{}:{}:topic/dt/coffeemonitor/machines\".format(\n\u001b[0;32m----> 9\u001b[0;31m                 \u001b[0mcurrent_region\u001b[0m\u001b[0;34m,\u001b[0m \u001b[0mcurrent_account_id\u001b[0m\u001b[0;34m\u001b[0m\u001b[0;34m\u001b[0m\u001b[0m\n\u001b[0m\u001b[1;32m     10\u001b[0m             )\n\u001b[1;32m     11\u001b[0m         },\n",
      "\u001b[0;31mNameError\u001b[0m: name 'current_region' is not defined"
     ]
    }
   ],
   "source": [
    "# The following inline policy will restrict Greengrsass Group permissions to logging activties.\n",
    "group_role_policy = {\n",
    "    \"Version\": \"2012-10-17\",\n",
    "    \"Statement\": [\n",
    "        {\"Effect\": \"Allow\", \"Action\": \"logs:CreateLogGroup\", \"Resource\": \"*\"},\n",
    "        {\n",
    "            \"Effect\": \"Allow\",\n",
    "            \"Action\": [\"logs:CreateLogStream\", \"logs:PutRetentionPolicy\"],\n",
    "            \"Resource\": \"arn:aws:logs:{}:{}:log-group:/greengrass/*\".format(\n",
    "                current_region, current_account_id\n",
    "            ),\n",
    "        },\n",
    "        {\n",
    "            \"Effect\": \"Allow\",\n",
    "            \"Action\": \"logs:PutLogEvents\",\n",
    "            \"Resource\": \"arn:aws:logs:{}:{}:log-group:/greengrass/*:log-stream:*\".format(\n",
    "                current_region, current_account_id\n",
    "            ),\n",
    "        },\n",
    "    ],\n",
    "}\n",
    "\n",
    "group_role_arn = create_greengrass_group_role(\n",
    "    GroupRoleName=GROUP_PREFIX + \"GreengrassGroupRole_\" + uniqueid(),\n",
    "    GroupRolePolicy=group_role_policy,\n",
    "    iam=iam_client,\n",
    ")\n",
    "\n",
    "# Associate the role to the Greengrass group\n",
    "resp = gg_client.associate_role_to_group(GroupId=group[\"Id\"], RoleArn=group_role_arn)\n",
    "\n",
    "# Print result of API call\n",
    "resp.pop(\"ResponseMetadata\") and resp"
   ]
  },
  {
   "cell_type": "markdown",
   "metadata": {},
   "source": [
    "# Part 3: CoreDefinition, CoreDefinitionVersion and related IoT Thing, certificate, keys and policy\n",
    "  \n"
   ]
  },
  {
   "cell_type": "markdown",
   "metadata": {},
   "source": [
    "### Create the set of private key, public key and certificate and store them \n",
    "\n",
    "\n",
    "For the  initial configuration of AWS IoT Greengrass core the following files need to be placed on the edge device (in case of this workshop we are using an EC2 instance to simulate an edge device):\n",
    "```\n",
    "/greengrass/certs/<name>.pem => Certificate of the Core device \n",
    "/greengrass/certs/<name>.private.key => Private key of the Core device\n",
    "/greengrass/certs/<name>.public.key  => Public key of the Core device\n",
    "```    \n",
    "\n",
    "In the next step the 3 above mentioned files will be generated and stored locally in the directory with the name \"greengrassconfig-<Unique id>\". In the later steps we will transfer these files to the EC2 instance into `/greengrass/certs`\n"
   ]
  },
  {
   "cell_type": "code",
   "execution_count": null,
   "metadata": {},
   "outputs": [],
   "source": [
    "# Call Boto3 API to generate certificate, public key and private key\n",
    "core_thing_keys_cert = iot_client.create_keys_and_certificate(setAsActive=True)\n",
    "\n",
    "# Store certificate, public key and private key\n",
    "filename_privatekey = GROUP_NAME + \".private.key\"\n",
    "filename_publickey = GROUP_NAME + \".public.key\"\n",
    "filename_certificate = GROUP_NAME + \".pem\"\n",
    "\n",
    "save_string_to_file(\n",
    "    ggcore_config_directory_cert + \"/\" + filename_certificate,\n",
    "    core_thing_keys_cert[\"certificatePem\"],\n",
    ")\n",
    "\n",
    "# Please note: storing private keys on a local file system is generally insecure and is done in \n",
    "# this code sample only for demonstrational purposes assuming prototypic usage. It should be only used in \n",
    "# prototyping environments after detailed risk analysis and never used in production environments.\n",
    "#\n",
    "# Please consult \"Hardware security\"  document \n",
    "# at https://docs.aws.amazon.com/greengrass/latest/developerguide/hardware-security.html\n",
    "# for best practicess on secure storage and offloading of private keys for Greengrass Core devices.\n",
    "save_string_to_file(\n",
    "    ggcore_config_directory_cert + \"/\" + filename_privatekey,\n",
    "    core_thing_keys_cert[\"keyPair\"][\"PrivateKey\"],\n",
    ")\n",
    "save_string_to_file(\n",
    "    ggcore_config_directory_cert + \"/\" + filename_publickey,\n",
    "    core_thing_keys_cert[\"keyPair\"][\"PublicKey\"],\n",
    ")"
   ]
  },
  {
   "cell_type": "code",
   "execution_count": null,
   "metadata": {
    "tags": []
   },
   "outputs": [],
   "source": [
    "!ls -ls $ggcore_config_directory_cert"
   ]
  },
  {
   "cell_type": "markdown",
   "metadata": {},
   "source": [
    "### Create Core Thing and attach certificate to the Core Thing  "
   ]
  },
  {
   "cell_type": "code",
   "execution_count": null,
   "metadata": {},
   "outputs": [],
   "source": [
    "core_thing_name = GROUP_PREFIX + \"Core_\" + uniqueid()\n",
    "core_thing = iot_client.create_thing(thingName=core_thing_name)\n",
    "iot_client.attach_thing_principal(\n",
    "    thingName=core_thing[\"thingName\"], principal=core_thing_keys_cert[\"certificateArn\"]\n",
    ")\n",
    "\n",
    "core_thing.pop(\"ResponseMetadata\") and core_thing"
   ]
  },
  {
   "cell_type": "markdown",
   "metadata": {},
   "source": [
    "### Create new policy for the Core Thing and attach that policy to the certificate  \n",
    "\n",
    "The policy is only for demonstration purposes and should be reviewed and adjusted before further use in other \n",
    "use cases or applications.\n"
   ]
  },
  {
   "cell_type": "code",
   "execution_count": 2,
   "metadata": {},
   "outputs": [
    {
     "output_type": "error",
     "ename": "NameError",
     "evalue": "name 'current_region' is not defined",
     "traceback": [
      "\u001b[0;31m---------------------------------------------------------------------------\u001b[0m",
      "\u001b[0;31mNameError\u001b[0m                                 Traceback (most recent call last)",
      "\u001b[0;32m<ipython-input-2-581df6e1dfc9>\u001b[0m in \u001b[0;36m<module>\u001b[0;34m\u001b[0m\n\u001b[1;32m      9\u001b[0m             \"Resource\": [\n\u001b[1;32m     10\u001b[0m                 \"arn:aws:iot:{}:{}:topic/$aws/things/{}\".format(\n\u001b[0;32m---> 11\u001b[0;31m                     \u001b[0mcurrent_region\u001b[0m\u001b[0;34m,\u001b[0m \u001b[0mcurrent_account_id\u001b[0m\u001b[0;34m,\u001b[0m \u001b[0mcore_thing_name\u001b[0m \u001b[0;34m+\u001b[0m \u001b[0;34m\"*\"\u001b[0m\u001b[0;34m\u001b[0m\u001b[0;34m\u001b[0m\u001b[0m\n\u001b[0m\u001b[1;32m     12\u001b[0m                 ),\n\u001b[1;32m     13\u001b[0m                 \u001b[0;34m\"arn:aws:iot:{}:{}:topic/dt/coffeemonitor/machines\"\u001b[0m\u001b[0;34m.\u001b[0m\u001b[0mformat\u001b[0m\u001b[0;34m(\u001b[0m \u001b[0mcurrent_region\u001b[0m\u001b[0;34m,\u001b[0m \u001b[0mcurrent_account_id\u001b[0m \u001b[0;34m)\u001b[0m\u001b[0;34m\u001b[0m\u001b[0;34m\u001b[0m\u001b[0m\n",
      "\u001b[0;31mNameError\u001b[0m: name 'current_region' is not defined"
     ]
    }
   ],
   "source": [
    "# Define policy content.\n",
    "minimal_core_device_policy = {\n",
    "    \"Version\": \"2012-10-17\",\n",
    "    \"Statement\": [\n",
    "        {\"Effect\": \"Allow\", \"Action\": [\"iot:Connect\"], \"Resource\": [\"*\"]},\n",
    "        {\n",
    "            \"Effect\": \"Allow\",\n",
    "            \"Action\": [\"iot:Publish\", \"iot:Receive\"],\n",
    "            \"Resource\": [\n",
    "                \"arn:aws:iot:{}:{}:topic/$aws/things/{}\".format(\n",
    "                    current_region, current_account_id, core_thing_name + \"*\"\n",
    "                ),\n",
    "                \"arn:aws:iot:{}:{}:topic/dt/coffeemonitor/machines\".format( current_region, current_account_id ) \n",
    "            ],\n",
    "        },\n",
    "        {\n",
    "            \"Effect\": \"Allow\",\n",
    "            \"Action\": [\"iot:Subscribe\"],\n",
    "            \"Resource\": [\n",
    "                \"arn:aws:iot:{}:{}:topicfilter/$aws/things/{}\".format(\n",
    "                    current_region, current_account_id, core_thing_name + \"*\"\n",
    "                )\n",
    "            ],\n",
    "        },\n",
    "        {\n",
    "            \"Effect\": \"Allow\",\n",
    "            \"Action\": [\n",
    "                \"iot:GetThingShadow\",\n",
    "                \"iot:UpdateThingShadow\",\n",
    "                \"iot:DeleteThingShadow\",\n",
    "            ],\n",
    "            \"Resource\": [\n",
    "                \"arn:aws:iot:{}:{}:thing/{}\".format(\n",
    "                    current_region, current_account_id, core_thing_name + \"*\"\n",
    "                )\n",
    "            ],\n",
    "        },\n",
    "        {\n",
    "            \"Effect\": \"Allow\",\n",
    "            \"Action\": [\"greengrass:AssumeRoleForGroup\", \"greengrass:CreateCertificate\"],\n",
    "            \"Resource\": [\"*\"],\n",
    "        },\n",
    "        {\n",
    "            \"Effect\": \"Allow\",\n",
    "            \"Action\": [\"greengrass:GetDeployment\"],\n",
    "            \"Resource\": [\n",
    "                \"arn:aws:greengrass:{}:{}:/greengrass/groups/{}/deployments/*\".format(\n",
    "                    current_region, current_account_id, group_id\n",
    "                )\n",
    "            ],\n",
    "        },\n",
    "        {\n",
    "            \"Effect\": \"Allow\",\n",
    "            \"Action\": [\"greengrass:GetDeploymentArtifacts\"],\n",
    "            \"Resource\": [\n",
    "                \"arn:aws:greengrass:{}:{}:/greengrass/groups/{}/deployments/*\".format(\n",
    "                    current_region, current_account_id, group_id\n",
    "                )\n",
    "            ],\n",
    "        },\n",
    "        {\n",
    "            \"Effect\": \"Allow\",\n",
    "            \"Action\": [\"greengrass:UpdateCoreDeploymentStatus\"],\n",
    "            \"Resource\": [\n",
    "                \"arn:aws:greengrass:{}:{}:/greengrass/groups/{}/deployments/*/cores/arn%3Aaws%3Aiot%3A{}%3A{}%3Athing%2F{}\".format(\n",
    "                    current_region,\n",
    "                    current_account_id,\n",
    "                    group_id,\n",
    "                    current_region,\n",
    "                    current_account_id,\n",
    "                    core_thing_name,\n",
    "                )\n",
    "            ],\n",
    "        },\n",
    "        {\n",
    "            \"Effect\": \"Allow\",\n",
    "            \"Action\": [\n",
    "                \"greengrass:GetConnectivityInfo\",\n",
    "                \"greengrass:UpdateConnectivityInfo\",\n",
    "            ],\n",
    "            \"Resource\": [\n",
    "                \"arn:aws:iot:{}:{}:thing/{}\".format(\n",
    "                    current_region, current_account_id, core_thing_name\n",
    "                )\n",
    "            ],\n",
    "        },\n",
    "    ],\n",
    "}"
   ]
  },
  {
   "cell_type": "code",
   "execution_count": null,
   "metadata": {},
   "outputs": [],
   "source": []
  },
  {
   "cell_type": "code",
   "execution_count": null,
   "metadata": {},
   "outputs": [],
   "source": [
    "# Create new policy\n",
    "policy = iot_client.create_policy(\n",
    "    policyName=GROUP_PREFIX + \"CorePolicy_\" + uniqueid(),\n",
    "    policyDocument=json.dumps(minimal_core_device_policy),\n",
    ")\n",
    "\n",
    "# Attach certificate to the policy\n",
    "iot_client.attach_principal_policy(\n",
    "    policyName=policy[\"policyName\"], principal=core_thing_keys_cert[\"certificateArn\"]\n",
    ")\n",
    "\n",
    "policy.pop(\"ResponseMetadata\") and policy.pop(\"policyDocument\") and policy"
   ]
  },
  {
   "cell_type": "markdown",
   "metadata": {},
   "source": [
    "### Create a CoreDefinition and CoreDefinitionVersion"
   ]
  },
  {
   "cell_type": "code",
   "execution_count": null,
   "metadata": {},
   "outputs": [],
   "source": [
    "core_definition = gg_client.create_core_definition(\n",
    "    InitialVersion={\n",
    "        \"Cores\": [\n",
    "            {\n",
    "                \"Id\": core_thing[\"thingName\"],\n",
    "                \"ThingArn\": core_thing[\"thingArn\"],\n",
    "                \"CertificateArn\": core_thing_keys_cert[\"certificateArn\"],\n",
    "                \"SyncShadow\": False,\n",
    "            }\n",
    "        ]\n",
    "    },\n",
    "    Name=GROUP_PREFIX + uniqueid(),\n",
    ")\n",
    "\n",
    "core_definition.pop(\"ResponseMetadata\") and core_definition"
   ]
  },
  {
   "cell_type": "markdown",
   "metadata": {},
   "source": [
    "# Part 4: DeviceDefinition and DeviceDefinitionVersion and related IoT Things, certificates, keys and polices\n",
    "\n",
    "What will happen in this part:    \n",
    "1. Define device names  \n",
    "2. Create IoT policies with minimal permissions  \n",
    "3. Create key material and certificate , store them into local directory  \n",
    "4. Create Things in IoT registry, attach certificate to each Thing, attach IoT policies to each Thing's certificate  \n",
    "5. Create DeviceDefinition and DeviceDefinitionVersion  "
   ]
  },
  {
   "cell_type": "markdown",
   "metadata": {},
   "source": [
    "### Define device names"
   ]
  },
  {
   "cell_type": "code",
   "execution_count": null,
   "metadata": {
    "tags": []
   },
   "outputs": [],
   "source": [
    "NUMBER_OF_DEVICES = 2\n",
    "device_thing_names = []\n",
    "\n",
    "for device_id in range(1, NUMBER_OF_DEVICES + 1, 1):\n",
    "    device_thing_names.append(\"CoffeeMachine\" + str(device_id))\n",
    "\n",
    "log.info(\"Device Thing names: {}\".format(json.dumps(device_thing_names)))"
   ]
  },
  {
   "cell_type": "markdown",
   "metadata": {},
   "source": [
    "### Create IoT policies with minimal permissions "
   ]
  },
  {
   "cell_type": "code",
   "execution_count": null,
   "metadata": {},
   "outputs": [],
   "source": [
    "device_policy_names = []\n",
    "\n",
    "\n",
    "for device_id in range(0, NUMBER_OF_DEVICES, 1):\n",
    "\n",
    "    device_policy_name = (\n",
    "        \"Device\" + str(device_id) + \"_policy_\" + GROUP_PREFIX + \"_\" + uniqueid()\n",
    "    )\n",
    "    # Device policy will contain the minimal persmissions, neccessary for a Group discovery process\n",
    "    device_policy_content = {\n",
    "        \"Version\": \"2012-10-17\",\n",
    "        \"Statement\": [\n",
    "            {\n",
    "                \"Effect\": \"Allow\",\n",
    "                \"Action\": [\"greengrass:Discover\"],\n",
    "                \"Resource\": [\n",
    "                    \"arn:aws:iot:{}:{}:thing/{}\".format(\n",
    "                        current_region,\n",
    "                        current_account_id,\n",
    "                        device_thing_names[device_id],\n",
    "                    )\n",
    "                ],\n",
    "            }\n",
    "        ],\n",
    "    }\n",
    "\n",
    "    iot_client.create_policy(\n",
    "        policyName=device_policy_name, policyDocument=json.dumps(device_policy_content),\n",
    "    )\n",
    "\n",
    "    device_policy_names.append(device_policy_name)\n",
    "\n",
    "device_policy_names"
   ]
  },
  {
   "cell_type": "markdown",
   "metadata": {},
   "source": [
    "### Create key material and certificate , store them into local directory"
   ]
  },
  {
   "cell_type": "code",
   "execution_count": null,
   "metadata": {
    "tags": []
   },
   "outputs": [],
   "source": [
    "device_key_certs, device_simulator_commands = [], []\n",
    "\n",
    "for device_id in range(0, NUMBER_OF_DEVICES, 1):\n",
    "    # Call Boto3 API to generate certificate, public key and private key\n",
    "    device_keys_cert = iot_client.create_keys_and_certificate(setAsActive=True)\n",
    "\n",
    "    # Store certificate, public key and private key\n",
    "    filename_privatekey_device = \"CoffeeMachine_{}.key\".format(device_id + 1)\n",
    "    filename_publickey_device = \"CoffeeMachine_{}.public.key\".format(device_id + 1)\n",
    "    filename_certificate_device = \"CoffeeMachine_{}.pem\".format(device_id + 1)\n",
    "    save_string_to_file(\n",
    "        ggad_config_directory_cert + \"/\" + filename_certificate_device,\n",
    "        device_keys_cert[\"certificatePem\"],\n",
    "    )\n",
    "\n",
    "    # Please note: storing private keys on a local file system is generally insecure and is done in \n",
    "    # this code sample only for demonstrational purposes assuming prototypic usage. It should be only used in \n",
    "    # prototyping environments after detailed risk analysis and never used in production environments.\n",
    "    save_string_to_file(\n",
    "        ggad_config_directory_cert + \"/\" + filename_privatekey_device,\n",
    "        device_keys_cert[\"keyPair\"][\"PrivateKey\"],\n",
    "    )\n",
    "    save_string_to_file(\n",
    "        ggad_config_directory_cert + \"/\" + filename_publickey_device,\n",
    "        device_keys_cert[\"keyPair\"][\"PublicKey\"],\n",
    "    )\n",
    "\n",
    "    device_simulator_commands.append(\n",
    "        \"./coffemachine_simulator.sh {} {} {} {}\".format(\n",
    "            device_thing_names[device_id],\n",
    "            \"certs/\" + filename_certificate_device,\n",
    "            \"certs/\" + filename_privatekey_device,\n",
    "            device_id + 1,\n",
    "        )\n",
    "    )\n",
    "\n",
    "    device_key_certs.append(device_keys_cert)\n",
    "\n",
    "!ls -d $ggad_config_directory_cert/*"
   ]
  },
  {
   "cell_type": "markdown",
   "metadata": {},
   "source": [
    "### Create Things in IoT registry, attach certificate to each Thing, attach IoT policies to each Thing's certificate"
   ]
  },
  {
   "cell_type": "code",
   "execution_count": null,
   "metadata": {
    "tags": []
   },
   "outputs": [],
   "source": [
    "device_things = []\n",
    "for device_id in range(0, NUMBER_OF_DEVICES, 1):\n",
    "\n",
    "    device_thing = iot_client.create_thing(thingName=device_thing_names[device_id])\n",
    "    device_thing.pop(\"ResponseMetadata\") and print(device_thing)\n",
    "    device_thing_principal = iot_client.attach_thing_principal(\n",
    "        thingName=device_thing_names[device_id],\n",
    "        principal=device_key_certs[device_id][\"certificateArn\"],\n",
    "    )\n",
    "    iot_client.attach_principal_policy(\n",
    "        policyName=device_policy_names[device_id],\n",
    "        principal=device_key_certs[device_id][\"certificateArn\"],\n",
    "    )\n",
    "    device_things.append(device_thing)"
   ]
  },
  {
   "cell_type": "markdown",
   "metadata": {},
   "source": [
    "### Create DeviceDefinition and DeviceDefinitionVersion"
   ]
  },
  {
   "cell_type": "code",
   "execution_count": null,
   "metadata": {},
   "outputs": [],
   "source": [
    "device_definition_version_entries = []\n",
    "for device_id in range(0, NUMBER_OF_DEVICES, 1):\n",
    "    device_definition_version_entries.append(\n",
    "        {\n",
    "            \"CertificateArn\": device_key_certs[device_id][\"certificateArn\"],\n",
    "            \"Id\": \"device{}\".format(device_id),\n",
    "            \"SyncShadow\": False,\n",
    "            \"ThingArn\": device_things[device_id][\"thingArn\"],\n",
    "        }\n",
    "    )\n",
    "\n",
    "\n",
    "device_definition = gg_client.create_device_definition(\n",
    "    InitialVersion={\"Devices\": device_definition_version_entries},\n",
    "    Name=GROUP_PREFIX + uniqueid(),\n",
    ")\n",
    "\n",
    "device_definition.pop(\"ResponseMetadata\") and device_definition"
   ]
  },
  {
   "cell_type": "markdown",
   "metadata": {},
   "source": [
    "# Part 5: FunctionDefinition and FunctionDefinitionVersion and related AWS Lambda function"
   ]
  },
  {
   "cell_type": "markdown",
   "metadata": {},
   "source": [
    "### Install AWS Lambda packages"
   ]
  },
  {
   "cell_type": "markdown",
   "metadata": {},
   "source": [
    "For the demonstration purposes we will use AWS SDK to create an AWS Lambda function to be deployed on a Greegrass device. For the production scenarios please consider using AWS CloudFormation and AWS SDK."
   ]
  },
  {
   "cell_type": "markdown",
   "metadata": {},
   "source": [
    "### Create a file ./build/lambda.zip from directory 'coffeemachine_telemetryprocessor/src'"
   ]
  },
  {
   "cell_type": "code",
   "execution_count": null,
   "metadata": {
    "tags": []
   },
   "outputs": [],
   "source": [
    "!cd \"../coffeemachine_telemetryprocessor/src\" && pip3 install -r requirements.txt -t .\n",
    "zipfile_path = \"build/lambda.zip\"\n",
    "lambda_code_source_path = \"../coffeemachine_telemetryprocessor/src\"\n",
    "!mkdir -p \"./build\" && cd $lambda_code_source_path && zip -r ../../notebooks/$zipfile_path * >/dev/null\n",
    "!ls -la $zipfile_path"
   ]
  },
  {
   "cell_type": "markdown",
   "metadata": {},
   "source": [
    "### Create a new AWS Lambda function with alias \"demo\" "
   ]
  },
  {
   "cell_type": "code",
   "execution_count": null,
   "metadata": {
    "tags": []
   },
   "outputs": [],
   "source": [
    "LAMBDA_FUNCTION_NAME = \"TelemetryProcessor_\" + uniqueid()\n",
    "LAMBDA_ROLE_NAME = \"TelemetryProcessorRole_\" + uniqueid()\n",
    "\n",
    "lambda_function_arn_fullqualified = create_lambda_function(\n",
    "    FunctionName=LAMBDA_FUNCTION_NAME,\n",
    "    RoleName=LAMBDA_ROLE_NAME,\n",
    "    CodeZipFilePath=zipfile_path,\n",
    "    FunctionAliasName=\"demo\",\n",
    "    iam=iam_client,\n",
    "    log=log,\n",
    "    lambda_client=lambda_client,\n",
    ")"
   ]
  },
  {
   "cell_type": "markdown",
   "metadata": {},
   "source": [
    "### FunctionDefinition and FunctionDefinitionVersion "
   ]
  },
  {
   "cell_type": "code",
   "execution_count": null,
   "metadata": {},
   "outputs": [],
   "source": [
    "function_definition = gg_client.create_function_definition(\n",
    "    InitialVersion={\n",
    "        \"DefaultConfig\": {\"Execution\": {\"IsolationMode\": \"GreengrassContainer\"}},\n",
    "        \"Functions\": [\n",
    "            # AWS Lambda function for local visualization of coffee consumption\n",
    "            {\n",
    "                \"FunctionArn\": lambda_function_arn_fullqualified,\n",
    "                \"FunctionConfiguration\": {\n",
    "                    \"EncodingType\": \"json\",\n",
    "                    \"MemorySize\": 64 * 1024,\n",
    "                    \"Pinned\": True,\n",
    "                    \"Timeout\": 20,\n",
    "                },\n",
    "                \"Id\": str(uuid.uuid4()),\n",
    "            }, \n",
    "            # You can configure AWS IoT Greengrass to enable automatic discovery of your Greengrass core \n",
    "            # using the IPDetector system Lambda function. You can also enable this feature by choosing Automatic                    # detection when you deploy your group from the console for the first time, or from the \n",
    "            # group's Settings page in the console at any time. \n",
    "            # Please consult the chapter \"Activate automatic IP detection\" in\n",
    "            # https://docs.aws.amazon.com/greengrass/latest/developerguide/gg-core.html for details\n",
    "            {\n",
    "                \"FunctionArn\": \"arn:aws:lambda:::function:GGIPDetector:1\",\n",
    "                \"FunctionConfiguration\": {\n",
    "                    \"Environment\": {},\n",
    "                    \"MemorySize\": 32768,\n",
    "                    \"Pinned\": True,\n",
    "                    \"Timeout\": 3\n",
    "               },\n",
    "               \"Id\": str(uuid.uuid4())\n",
    "            }\n",
    "        ],\n",
    "    },\n",
    "    Name=GROUP_PREFIX + uniqueid(),\n",
    ")\n",
    "\n",
    "function_definition.pop(\"ResponseMetadata\") and function_definition"
   ]
  },
  {
   "cell_type": "markdown",
   "metadata": {},
   "source": [
    "# Part 6: SubscriptionDefinition and SubscriptionDefinitionVersion\n",
    "\n",
    "Please consider the white paper https://d1.awsstatic.com/whitepapers/Designing_MQTT_Topics_for_AWS_IoT_Core.pdf for best practices on designing MQTT topica for AWS IoT Core"
   ]
  },
  {
   "cell_type": "code",
   "execution_count": null,
   "metadata": {},
   "outputs": [],
   "source": [
    "subscription_definition_version_entries = []\n",
    "\n",
    "# Allow a communication for each Greengrass aware device (coffee machine) to a Greengrass Device\n",
    "for device_id in range(0, NUMBER_OF_DEVICES, 1):\n",
    "    subscription_definition_version_entries.append(\n",
    "        {\n",
    "            \"Source\": device_things[device_id][\"thingArn\"],\n",
    "            \"Subject\": \"dt/coffeemonitor/machine/\" + str(device_id+1),\n",
    "            \"Target\": lambda_function_arn_fullqualified,\n",
    "            \"Id\": str(uuid.uuid4()),\n",
    "        }\n",
    "    )\n",
    "\n",
    "# Allow a communication from a Greengrass Device to an AWS IoT cloud\n",
    "subscription_definition_version_entries.append(\n",
    "    {\n",
    "        \"Source\": lambda_function_arn_fullqualified,\n",
    "        \"Subject\": \"dt/coffeemonitor/machines\",\n",
    "        \"Target\": \"cloud\",\n",
    "        \"Id\": str(uuid.uuid4()),\n",
    "    }\n",
    ")\n",
    "\n",
    "subscription_definition = gg_client.create_subscription_definition(\n",
    "    InitialVersion={\"Subscriptions\": subscription_definition_version_entries,},\n",
    "    Name=GROUP_PREFIX + uniqueid(),\n",
    ")\n",
    "\n",
    "subscription_definition.pop(\"ResponseMetadata\") and subscription_definition"
   ]
  },
  {
   "cell_type": "markdown",
   "metadata": {},
   "source": [
    "# Part 7: GroupVersion"
   ]
  },
  {
   "cell_type": "code",
   "execution_count": null,
   "metadata": {},
   "outputs": [],
   "source": [
    "group_version = gg_client.create_group_version(\n",
    "    GroupId=group[\"Id\"],\n",
    "    CoreDefinitionVersionArn=core_definition[\"LatestVersionArn\"],\n",
    "    DeviceDefinitionVersionArn=device_definition[\"LatestVersionArn\"],\n",
    "    FunctionDefinitionVersionArn=function_definition[\"LatestVersionArn\"],\n",
    "    SubscriptionDefinitionVersionArn=subscription_definition[\"LatestVersionArn\"],\n",
    ")\n",
    "\n",
    "group_version.pop(\"ResponseMetadata\") and group_version"
   ]
  },
  {
   "cell_type": "markdown",
   "metadata": {},
   "source": [
    "# Part 8: Greengrass configuration file config.json\n",
    "\n",
    "See configuration details in https://docs.aws.amazon.com/greengrass/latest/developerguide/gg-core.html"
   ]
  },
  {
   "cell_type": "code",
   "execution_count": null,
   "metadata": {
    "tags": []
   },
   "outputs": [],
   "source": [
    "# Please note: storing private keys on a local file system is generally insecure and is done in \n",
    "# this code sample only for demonstrational purposes assuming prototypic usage. It should be only used in \n",
    "# prototyping environments after detailed risk analysis and never used in production environments.\n",
    "\n",
    "def replace_map(input, map):\n",
    "    for replacement in map:\n",
    "        input = input.replace(replacement, map[replacement])\n",
    "    return input\n",
    "\n",
    "\n",
    "path_configjsonfile = ggcore_config_directory_jsonconfig + \"/config.json\"\n",
    "\n",
    "configjson_template_content = read_string_from_file(FILE_GGCONFIGTEMPLATE)\n",
    "\n",
    "iot_endpoint = iot_client.describe_endpoint(endpointType=\"iot:Data-ATS\")[\"endpointAddress\"]\n",
    "core_thing_arn = core_thing[\"thingArn\"]\n",
    "\n",
    "configjson_content = replace_map(\n",
    "    configjson_template_content,\n",
    "    {\n",
    "        \"{{filename_privatekey}}\": filename_privatekey,\n",
    "        \"{{filename_publickey}}\": filename_publickey,\n",
    "        \"{{filename_cert}}\": filename_certificate,\n",
    "        \"{{iot_endpoint}}\": iot_endpoint,\n",
    "        \"{{gg_endpoint}}\": \"greengrass-ats.iot.\"\n",
    "        + boto3.session.Session().region_name\n",
    "        + \".amazonaws.com\",\n",
    "        \"{{core_thing_arn}}\": core_thing_arn,\n",
    "        \"{{root_ca_file}}\": ROOTCAPEM,\n",
    "    },\n",
    ")\n",
    "\n",
    "\n",
    "save_string_to_file(path_configjsonfile, configjson_content)\n",
    "\n",
    "log.info(\n",
    "    \"Greengrass Core configuration is saved into the file {}\".format(\n",
    "        path_configjsonfile\n",
    "    )\n",
    ")"
   ]
  },
  {
   "cell_type": "markdown",
   "metadata": {},
   "source": [
    "# Part 9: Create an archive with AWS IoT Greengrass Core configuration\n",
    "\n",
    "\n",
    "**The content of the archive**\n",
    "```\n",
    "certs/IoT3Boto3Workshop_<random>.public.key    => Public Key\n",
    "certs/IoT3Boto3Workshop_<random>.private.key   => Private Key\n",
    "certs/IoT3Boto3Workshop_<random>.pem           => Certificate\n",
    "config/config.json                             => AWS IoT Greengrass Core configuration\n",
    "```"
   ]
  },
  {
   "cell_type": "code",
   "execution_count": null,
   "metadata": {
    "tags": []
   },
   "outputs": [],
   "source": [
    "# Please note: storing private keys on a local file system is generally insecure and is done in \n",
    "# this code sample only for demonstrational purposes assuming prototypic usage. It should be only used in \n",
    "# prototyping environments after detailed risk analysis and never used in production environments.\n",
    "\n",
    "gg_core_config_file = os.getcwd() + \"/\" + uniqueid() + \"-gg_core_config\" + \".tgz\"\n",
    "!echo \"-------- List of files placed into an archive -----------\"\n",
    "! cd $ggcore_config_directory_root && tar cvfz $gg_core_config_file * \n",
    "!echo \"--------------------------------------------------------\"\n",
    "log.info(\n",
    "    \"An archive with AWS IoT Greengrass Core configuration is saved to file \"\n",
    "    + gg_core_config_file\n",
    ")"
   ]
  },
  {
   "cell_type": "markdown",
   "metadata": {},
   "source": [
    "# Part 10: Create an archive with configuration for connected devices containing public keys, private keys and certificates"
   ]
  },
  {
   "cell_type": "code",
   "execution_count": null,
   "metadata": {
    "tags": []
   },
   "outputs": [],
   "source": [
    "# Please note: storing private keys on a local file system is generally insecure and is done in \n",
    "# this code sample only for demonstrational purposes assuming prototypic usage. It should be only used in \n",
    "# prototyping environments after detailed risk analysis and never used in production environments.\n",
    "\n",
    "device_config_file = os.getcwd() + \"/\" + uniqueid() + \"-devices_config.tgz\"\n",
    "!echo \"-------- List of files placed into an archive -----------\"\n",
    "!cd $ggad_config_directory_root && tar cvfz $device_config_file * \n",
    "!echo \"--------------------------------------------------------\"\n",
    "log.info(\n",
    "    \"Key material for the Greengrass aware devices is saved to file \"\n",
    "    + device_config_file \n",
    ")"
   ]
  },
  {
   "cell_type": "markdown",
   "metadata": {},
   "source": [
    "#### Transfer the configuration files\n",
    "Note that you can use the \"Download\" function of Jupyter by right-clicking on a name of a file.\n",
    "\n",
    "1. Please securely store the file gg_core_config-< number >.tgz to the Greengrass Device and follow the instructions in an AWS IoT Greengrass documentation on how to configure and start AWS Greengrass. \n",
    "\n",
    "2. Please securely store the file device_config-< number >.tgz to a device which you will be using to run the coffee machine simulator script and follow the instructions on https://github.com/aws-samples/aws-iot-greengrass-boto3 in section 'Setting up Greengrass aware devices'"
   ]
  },
  {
   "cell_type": "markdown",
   "metadata": {},
   "source": [
    "# Part 11: Deploy a Greengrass Group"
   ]
  },
  {
   "cell_type": "markdown",
   "metadata": {},
   "source": [
    "Please ensure that an AWS IoT Greengrass Core software is configured based on the archive file created in Part 9 and is running before startinga deployment. \n",
    "\n",
    "In case of problems, please consider reviewing https://docs.aws.amazon.com/greengrass/latest/developerguide/gg-troubleshooting.html and evaluating the log files of AWS IoT Greengrass core in the directory:\n",
    "\n",
    "`/greengrass/ggc/var/log/system`\n",
    "\n",
    "\n",
    "\n",
    "Example log files to consider:\n",
    "`/greengrass/ggc/var/log/system/runtime.log`"
   ]
  },
  {
   "cell_type": "markdown",
   "metadata": {},
   "source": [
    "### 11.1 Associate a Greengrass Service role to the account, if necessary\n",
    "AWS IoT Greengrass needs the service role to access your Lambda functions and AWS IoT resources. This is necessary for deployments to succeed. The role must have at least minimum permissions in the policy 'AWSGreengrassResourceAccessRolePolicy'\n",
    "\n",
    "Further approach:\n",
    "- First, we check if a Greengrass service role already associated to the account. \n",
    "- If it is associated, no further action will be performed, i.e. we will proceed with existing Greengrass service role\n",
    "- If it is not associated, we will create a new Greengrass service role and associate it to the account"
   ]
  },
  {
   "cell_type": "markdown",
   "metadata": {},
   "source": [
    "#### Check if a Greengrass service role already associated to the account. "
   ]
  },
  {
   "cell_type": "code",
   "execution_count": null,
   "metadata": {
    "tags": []
   },
   "outputs": [],
   "source": [
    "is_gg_service_role_associated_to_account = False\n",
    "ggservice_role_arn = None\n",
    "\n",
    "try:\n",
    "    resp = gg_client.get_service_role_for_account()\n",
    "except gg_client.exceptions.ClientError:\n",
    "    print(\"No Greengrass service is associated to account yet.\")\n",
    "    is_gg_service_role_associated_to_account = False\n",
    "else:\n",
    "    is_gg_service_role_associated_to_account = True\n",
    "    ggservice_role_arn = resp[\"RoleArn\"]\n",
    "    print(\n",
    "        \"Greengrass service role is associated to account, role ARN {}\".format(\n",
    "            ggservice_role_arn\n",
    "        )\n",
    "    )"
   ]
  },
  {
   "cell_type": "markdown",
   "metadata": {},
   "source": [
    "#### If no Greengrass Service role is associated, create a new role \"IoTWorkshop_GreengrassServiceRole\" if it does not exist yet"
   ]
  },
  {
   "cell_type": "code",
   "execution_count": null,
   "metadata": {},
   "outputs": [],
   "source": [
    "# Create a new Greengrass service role if neccessary\n",
    "if not is_gg_service_role_associated_to_account:\n",
    "    ggservice_role_name = \"IoTWorkshop_GreengrassServiceRole\"\n",
    "\n",
    "    if not role_exists(iam_client, ggservice_role_name):\n",
    "        # Define the assume role policy\n",
    "        ggservicerole_assume_role_policy = {\n",
    "            \"Version\": \"2012-10-17\",\n",
    "            \"Statement\": [\n",
    "                {\n",
    "                    \"Effect\": \"Allow\",\n",
    "                    \"Principal\": {\"Service\": \"greengrass.amazonaws.com\"},\n",
    "                    \"Action\": \"sts:AssumeRole\",\n",
    "                }\n",
    "            ],\n",
    "        }\n",
    "\n",
    "        # Create role\n",
    "\n",
    "        resp = iam_client.create_role(\n",
    "            RoleName=ggservice_role_name,\n",
    "            AssumeRolePolicyDocument=json.dumps(ggservicerole_assume_role_policy),\n",
    "        )\n",
    "\n",
    "        ggservice_role_arn = resp[\"Role\"][\"Arn\"]\n",
    "\n",
    "        # Attach managed policy to the role\n",
    "        ARN_AWSGreengrassResourceAccessRolePolicy = (\n",
    "            \"arn:aws:iam::aws:policy/service-role/AWSGreengrassResourceAccessRolePolicy\"\n",
    "        )\n",
    "        response = iam_client.attach_role_policy(\n",
    "            RoleName=ggservice_role_name,\n",
    "            PolicyArn=ARN_AWSGreengrassResourceAccessRolePolicy,\n",
    "        )\n",
    "        print(\n",
    "            \"Service role {} created with ARN {}\".format(\n",
    "                ggservice_role_name, ggservice_role_arn\n",
    "            )\n",
    "        )\n",
    "\n",
    "    else:\n",
    "        resp = iam_client.get_role(RoleName=ggservice_role_name)\n",
    "        ggservice_role_arn = resp[\"Role\"][\"Arn\"]\n",
    "        print(\n",
    "            \"Service role {} already exists with ARN {}. No action was performed.\".format(\n",
    "                ggservice_role_name, ggservice_role_arn\n",
    "            )\n",
    "        )"
   ]
  },
  {
   "cell_type": "code",
   "execution_count": null,
   "metadata": {},
   "outputs": [],
   "source": [
    "# Associste a new Greengrass service role to the account if neccessary\n",
    "if not is_gg_service_role_associated_to_account:\n",
    "    gg_client.associate_service_role_to_account(RoleArn=ggservice_role_arn)\n",
    "    print(\n",
    "        \"Greengrass service role {} was associated to the account\".format(\n",
    "            ggservice_role_arn\n",
    "        )\n",
    "    )"
   ]
  },
  {
   "cell_type": "markdown",
   "metadata": {},
   "source": [
    "### 11.2 Start a deployment"
   ]
  },
  {
   "cell_type": "code",
   "execution_count": null,
   "metadata": {},
   "outputs": [],
   "source": [
    "deployment = gg_client.create_deployment(\n",
    "    DeploymentType=\"NewDeployment\",\n",
    "    GroupId=group[\"Id\"],\n",
    "    GroupVersionId=group_version[\"Version\"],\n",
    ")\n",
    "\n",
    "deployment_id = deployment[\"DeploymentId\"]\n",
    "\n",
    "deployment.pop(\"ResponseMetadata\") and deployment"
   ]
  },
  {
   "cell_type": "markdown",
   "metadata": {},
   "source": [
    "### 11.3 Monitor deployment status and wait for a completion of the deployment"
   ]
  },
  {
   "cell_type": "code",
   "execution_count": null,
   "metadata": {
    "tags": []
   },
   "outputs": [],
   "source": [
    "deployment_finished = False\n",
    "deployment_timeout = False\n",
    "deployment_status = \"\"\n",
    "\n",
    "# Maxium time to monitor deployment status in seconds\n",
    "max_monitoring_time = 30\n",
    "\n",
    "while not deployment_finished and not deployment_timeout:\n",
    "\n",
    "    response = gg_client.get_deployment_status(DeploymentId=deployment_id, GroupId=group[\"Id\"])\n",
    "    deployment_status_prev = deployment_status\n",
    "    deployment_status = response[\"DeploymentStatus\"]\n",
    "    log.info(\n",
    "        \"Waiting for completion of deployment, currently in status {}\".format(\n",
    "            deployment_status\n",
    "        )\n",
    "    )\n",
    "\n",
    "    if deployment_status != deployment_status_prev:\n",
    "        log.info(\n",
    "            \"Status of deployment changed: {} ->  {}\".format(\n",
    "                deployment_id, deployment_status_prev, deployment_status\n",
    "            )\n",
    "        )\n",
    "\n",
    "    if deployment_status == \"Success\" or deployment_status == \"Failure\":\n",
    "        break\n",
    "\n",
    "    if max_monitoring_time <= 0:\n",
    "        log.error(\"Timeout for deployment {}\".format(deployment_id))\n",
    "        break\n",
    "\n",
    "    time.sleep(5)\n",
    "    max_monitoring_time = max_monitoring_time - 5"
   ]
  },
  {
   "cell_type": "markdown",
   "metadata": {},
   "source": [
    "## Part 12: Simulate ingestion from Greengrass aware devices"
   ]
  },
  {
   "cell_type": "markdown",
   "metadata": {},
   "source": [
    "Please perform the following steps:\n",
    "\n",
    "1. Clone the repostory https://github.com/aws-samples/aws-iot-greengrass-boto3 on the device you will use to run simulation scripts.\n",
    "\n",
    "2. Change to the directory `coffeemachine_devicesimulator`:  \n",
    " `cd coffeemachine_devicesimulator`\n",
    "\n",
    "4. Copy and extract the file `<Number>-devices_config.tgz` that was created in part 9:  \n",
    "  `tar xzvf <Number>-devices_config.tgz`\n",
    "\n",
    "5. Please execute the commands which are generated below in two separate shell instances and observe the ingestion\n",
    "\n",
    "6. Open your web browser and point it to port 8081 of your AWS IoT Greengrass Core runtime environment. You should see a dashboard showing coffee consumption. "
   ]
  },
  {
   "cell_type": "code",
   "execution_count": null,
   "metadata": {
    "tags": []
   },
   "outputs": [],
   "source": [
    "# The item 4 above refers to these commands:\n",
    "for cmd in device_simulator_commands:\n",
    "    print(cmd)"
   ]
  },
  {
   "cell_type": "markdown",
   "metadata": {},
   "source": [
    "## Part 13:Additional information\n"
   ]
  },
  {
   "cell_type": "code",
   "execution_count": null,
   "metadata": {
    "tags": []
   },
   "outputs": [],
   "source": [
    "log.info (\"Greengrass Group name in an AWS Management Console is \"+GROUP_NAME) "
   ]
  }
 ],
 "metadata": {
  "kernelspec": {
   "display_name": "Python 3.8.0 64-bit",
   "language": "python",
   "name": "python38064bit91260a61a1c24173b687c83cfb4b3ac9"
  },
  "language_info": {
   "codemirror_mode": {
    "name": "ipython",
    "version": 3
   },
   "file_extension": ".py",
   "mimetype": "text/x-python",
   "name": "python",
   "nbconvert_exporter": "python",
   "pygments_lexer": "ipython3",
   "version": "3.8.0-final"
  }
 },
 "nbformat": 4,
 "nbformat_minor": 4
}